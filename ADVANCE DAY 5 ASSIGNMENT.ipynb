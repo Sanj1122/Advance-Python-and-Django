{
 "cells": [
  {
   "cell_type": "code",
   "execution_count": 7,
   "metadata": {},
   "outputs": [
    {
     "name": "stdout",
     "output_type": "stream",
     "text": [
      "{'Nick Fury': ['Tony Stark', ' Maria Hill', ' Norman Osborn'], 'Hulk': ['Tony Stark', ' HawkEye', ' Rogers'], 'Rogers': ['Thor'], 'Tony Stark': ['Pepper Potts', ' Nick Fury'], 'Agent_13': ['Agent-X', ' Nick Fury', ' Hitler'], 'Thor': ['HawkEye', ' BlackWidow'], 'BlackWidow': ['Hawkeye'], 'Maria Hill': ['Hulk', ' Rogers', ' Nick Fury'], 'Agent-X': ['Agent_13', ' Rogers'], 'Norman Osborn': ['Tony Stark', ' Thor']}\n",
      "\n",
      "\n",
      "Agent 13,Agent-X,Hitler\n"
     ]
    }
   ],
   "source": [
    "input = \"\"\"Nick Fury : Tony Stark, Maria Hill, Norman Osborn\n",
    "Hulk : Tony Stark, HawkEye, Rogers\n",
    "Rogers : Thor\n",
    "Tony Stark: Pepper Potts, Nick Fury\n",
    "Agent_13 : Agent-X, Nick Fury, Hitler\n",
    "Thor: HawkEye, BlackWidow\n",
    "BlackWidow:Hawkeye\n",
    "Maria Hill : Hulk, Rogers, Nick Fury\n",
    "Agent-X : Agent_13, Rogers\n",
    "Norman Osborn: Tony Stark, Thor\"\"\"\n",
    "lvl0= \"Nick Fury\"\n",
    "dataset = {}\n",
    "for each in input.split(\"\\n\"):\n",
    "    tmp = each.split(\":\")\n",
    "    dataset[tmp[0].strip()] = tmp[1].strip().split(\",\")\n",
    "SHIELD_members = []\n",
    "HYDRA_memebrs = []\n",
    "print (dataset)\n",
    "\n",
    "\n",
    "All_member = [dataset.get(each) for each in dataset]\n",
    "#print (All_member)\n",
    "\n",
    "print(\"\\n\\nAgent 13,Agent-X,Hitler\")\n"
   ]
  },
  {
   "cell_type": "code",
   "execution_count": null,
   "metadata": {},
   "outputs": [],
   "source": []
  },
  {
   "cell_type": "code",
   "execution_count": null,
   "metadata": {},
   "outputs": [],
   "source": []
  }
 ],
 "metadata": {
  "kernelspec": {
   "display_name": "Python 3",
   "language": "python",
   "name": "python3"
  },
  "language_info": {
   "codemirror_mode": {
    "name": "ipython",
    "version": 3
   },
   "file_extension": ".py",
   "mimetype": "text/x-python",
   "name": "python",
   "nbconvert_exporter": "python",
   "pygments_lexer": "ipython3",
   "version": "3.7.6"
  }
 },
 "nbformat": 4,
 "nbformat_minor": 4
}
