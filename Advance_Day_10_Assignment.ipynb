{
  "nbformat": 4,
  "nbformat_minor": 0,
  "metadata": {
    "colab": {
      "name": "Advance Day 10 Assignment.ipynb",
      "provenance": [],
      "authorship_tag": "ABX9TyMH5sOOP4yXD421nVNRSkN+",
      "include_colab_link": true
    },
    "kernelspec": {
      "name": "python3",
      "display_name": "Python 3"
    }
  },
  "cells": [
    {
      "cell_type": "markdown",
      "metadata": {
        "id": "view-in-github",
        "colab_type": "text"
      },
      "source": [
        "<a href=\"https://colab.research.google.com/github/Sanj1122/Advance-Python-and-Django/blob/main/Advance_Day_10_Assignment.ipynb\" target=\"_parent\"><img src=\"https://colab.research.google.com/assets/colab-badge.svg\" alt=\"Open In Colab\"/></a>"
      ]
    },
    {
      "cell_type": "code",
      "metadata": {
        "id": "qrYb-YvNTS58",
        "outputId": "d08d488d-40eb-4e39-f72a-10105121ca51",
        "colab": {
          "base_uri": "https://localhost:8080/",
          "height": 34
        }
      },
      "source": [
        "import time\n",
        "t1=\"15-08-2020 15:20:20\"\n",
        "def hr_epoch(t1):\n",
        "    t9=time.strptime(t1,\"%d-%m-%Y %H:%M:%S\")\n",
        "    t3=time.mktime(t9)\n",
        "    return t3\n",
        "print(hr_epoch(t1))"
      ],
      "execution_count": 23,
      "outputs": [
        {
          "output_type": "stream",
          "text": [
            "1597504820.0\n"
          ],
          "name": "stdout"
        }
      ]
    }
  ]
}