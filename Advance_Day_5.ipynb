{
  "nbformat": 4,
  "nbformat_minor": 0,
  "metadata": {
    "colab": {
      "name": "Advance Day 5.ipynb",
      "provenance": [],
      "authorship_tag": "ABX9TyOwAIzSPYMGz8fJmIZzf/WF",
      "include_colab_link": true
    },
    "kernelspec": {
      "name": "python3",
      "display_name": "Python 3"
    }
  },
  "cells": [
    {
      "cell_type": "markdown",
      "metadata": {
        "id": "view-in-github",
        "colab_type": "text"
      },
      "source": [
        "<a href=\"https://colab.research.google.com/github/Sanj1122/Advance-Python-and-Django/blob/main/Advance_Day_5.ipynb\" target=\"_parent\"><img src=\"https://colab.research.google.com/assets/colab-badge.svg\" alt=\"Open In Colab\"/></a>"
      ]
    },
    {
      "cell_type": "code",
      "metadata": {
        "id": "jMlVAAJKboq0",
        "outputId": "55a871be-666f-4c44-a0c9-8c70458c50ae",
        "colab": {
          "base_uri": "https://localhost:8080/",
          "height": 34
        }
      },
      "source": [
        "def hydra_mem(transmission,fury):\n",
        " \n",
        "    information= dict()\n",
        " \n",
        "    for trans in transmission:\n",
        " \n",
        "       _parse_transmission(trans,information)\n",
        " \n",
        "    print(_find_hydra_mem(information, fury))\n",
        " \n",
        "def _parse_transmission(trans, information):\n",
        " \n",
        "    info = trans.split(':')\n",
        " \n",
        "    sender = info[0].strip()\n",
        " \n",
        "    receivers = [receiver.strip() for receiver in info[1].split(',')]\n",
        " \n",
        "    information[sender] = receivers\n",
        " \n",
        "def _find_hydra_mem(agents_info, fury):\n",
        " \n",
        "    hydra, shield_agents, agents = set(), set(), [fury]\n",
        " \n",
        "    while len(agents) > 0:\n",
        " \n",
        "        current = agents.pop()\n",
        " \n",
        "        shield_agents.add(current)\n",
        " \n",
        "        if current in agents_info:\n",
        " \n",
        "            for agent in agents_info[current]:\n",
        " \n",
        "                if agent not in shield_agents:\n",
        " \n",
        "                   agents.append(agent)\n",
        " \n",
        "    for sender in agents_info.keys():\n",
        " \n",
        "        if sender not in shield_agents:\n",
        " \n",
        "           hydra.add(sender)\n",
        " \n",
        "        for receiver in agents_info[sender]:\n",
        " \n",
        "            if receiver not in shield_agents:\n",
        " \n",
        "               hydra.add(receiver)\n",
        " \n",
        "    return hydra\n",
        " \n",
        "transmission = [\"Nick Fury : Tony Stark, Maria Hill, Norman Osborn\",\n",
        " \n",
        "                \"Hulk : Tony Stark, HawkEye, Rogers\",\n",
        " \n",
        "                \"Rogers : Thor\",\n",
        " \n",
        "                \"Tony Stark: Pepper Potts, Nick Fury\",\n",
        " \n",
        "                \"Agent 13 : Agent-X, Nick Fury, Hitler\",\n",
        " \n",
        "                \"Thor: HawkEye, BlackWidow\",\n",
        " \n",
        "                \"BlackWidow:Hawkeye\",\n",
        " \n",
        "                \"Maria Hill : Hulk, Rogers, Nick Fury\",\n",
        " \n",
        "                \"Agent-X : Agent 13, Rogers\",\n",
        " \n",
        "                \"Norman Osborn: Tony Stark, Thor\"]\n",
        " \n",
        "hydra_mem(transmission, \"Nick Fury\")"
      ],
      "execution_count": 3,
      "outputs": [
        {
          "output_type": "stream",
          "text": [
            "{'Agent 13', 'Hitler', 'Agent-X'}\n"
          ],
          "name": "stdout"
        }
      ]
    }
  ]
}