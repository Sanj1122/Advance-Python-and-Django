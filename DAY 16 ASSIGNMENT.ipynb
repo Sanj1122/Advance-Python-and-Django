{
 "cells": [
  {
   "cell_type": "code",
   "execution_count": 15,
   "metadata": {},
   "outputs": [
    {
     "name": "stdout",
     "output_type": "stream",
     "text": [
      "169.254.0.0\n",
      "0.0.0.0\n",
      "10.50.120.7\n",
      "10.47.8.4\n",
      "11.5.4.3\n",
      "172.55.54.74\n",
      "172.16.55.13\n",
      "172.16.254.3\n",
      "127.0.0.0\n",
      "169.254.0.0/16\n",
      "0.0.0.0/8\n",
      "127.0.0.0/8\n"
     ]
    }
   ],
   "source": [
    "import requests,re\n",
    "url=\"https://study-ccna.com/classes-of-ip-addresses/\"\n",
    "r=requests.get(url)\n",
    "data=r.text\n",
    "ip1=r\"[0-9]+\\.[0-9]+\\.[0-9]+\\.[0-9]+\"\n",
    "ip=r\"[0-9]+\\.[0-9]+\\.[0-9]+\\.[0-9]+\\/[0-9]+\"\n",
    "list_ip1=re.findall(ip1,data)\n",
    "list_ip1=list(set(list_ip1))\n",
    "list_ip=re.findall(ip,data)\n",
    "list_ip=list(set(list_ip))\n",
    "for each in list_ip1:\n",
    "    print(each)\n",
    "for i in list_ip:\n",
    "    print(i)"
   ]
  },
  {
   "cell_type": "code",
   "execution_count": null,
   "metadata": {},
   "outputs": [],
   "source": []
  }
 ],
 "metadata": {
  "kernelspec": {
   "display_name": "Python 3",
   "language": "python",
   "name": "python3"
  },
  "language_info": {
   "codemirror_mode": {
    "name": "ipython",
    "version": 3
   },
   "file_extension": ".py",
   "mimetype": "text/x-python",
   "name": "python",
   "nbconvert_exporter": "python",
   "pygments_lexer": "ipython3",
   "version": "3.7.6"
  }
 },
 "nbformat": 4,
 "nbformat_minor": 4
}
