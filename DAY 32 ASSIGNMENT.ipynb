{
 "cells": [
  {
   "cell_type": "code",
   "execution_count": null,
   "metadata": {},
   "outputs": [
    {
     "name": "stdout",
     "output_type": "stream",
     "text": [
      "socket binded to port 12345\n",
      "socket is listening\n"
     ]
    }
   ],
   "source": [
    "# import socket programming library \n",
    "import socket \n",
    "\n",
    "# import thread module \n",
    "from _thread import *\n",
    "import threading \n",
    "\n",
    "print_lock = threading.Lock() \n",
    "\n",
    "# thread function \n",
    "def threaded(c): \n",
    "\twhile True: \n",
    "\n",
    "\t\t# data received from client \n",
    "\t\tdata = c.recv(1024) \n",
    "\t\tif not data: \n",
    "\t\t\tprint('Bye') \n",
    "\t\t\t\n",
    "\t\t\t# lock released on exit \n",
    "\t\t\tprint_lock.release() \n",
    "\t\t\tbreak\n",
    "\n",
    "\t\t# reverse the given string from client \n",
    "\t\tdata = data[::-1] \n",
    "\n",
    "\t\t# send back reversed string to client \n",
    "\t\tc.send(data) \n",
    "\n",
    "\t# connection closed \n",
    "\tc.close() \n",
    "\n",
    "\n",
    "def Main(): \n",
    "\thost = \"\" \n",
    "\n",
    "\t# reverse a port on your computer \n",
    "\t# in our case it is 12345 but it \n",
    "\t# can be anything \n",
    "\tport = 12345\n",
    "\ts = socket.socket(socket.AF_INET, socket.SOCK_STREAM) \n",
    "\ts.bind((host, port)) \n",
    "\tprint(\"socket binded to port\", port) \n",
    "\n",
    "\t# put the socket into listening mode \n",
    "\ts.listen(5) \n",
    "\tprint(\"socket is listening\") \n",
    "\n",
    "\t# a forever loop until client wants to exit \n",
    "\twhile True: \n",
    "\n",
    "\t\t# establish connection with client \n",
    "\t\tc, addr = s.accept() \n",
    "\n",
    "\t\t# lock acquired by client \n",
    "\t\tprint_lock.acquire() \n",
    "\t\tprint('Connected to :', addr[0], ':', addr[1]) \n",
    "\n",
    "\t\t# Start a new thread and return its identifier \n",
    "\t\tstart_new_thread(threaded, (c,)) \n",
    "\ts.close() \n",
    "\n",
    "\n",
    "if __name__ == '__main__': \n",
    "\tMain() \n"
   ]
  },
  {
   "cell_type": "code",
   "execution_count": 1,
   "metadata": {},
   "outputs": [
    {
     "ename": "ConnectionRefusedError",
     "evalue": "[WinError 10061] No connection could be made because the target machine actively refused it",
     "output_type": "error",
     "traceback": [
      "\u001b[1;31m---------------------------------------------------------------------------\u001b[0m",
      "\u001b[1;31mConnectionRefusedError\u001b[0m                    Traceback (most recent call last)",
      "\u001b[1;32m<ipython-input-1-ee21073924e5>\u001b[0m in \u001b[0;36m<module>\u001b[1;34m\u001b[0m\n\u001b[0;32m     39\u001b[0m \u001b[1;33m\u001b[0m\u001b[0m\n\u001b[0;32m     40\u001b[0m \u001b[1;32mif\u001b[0m \u001b[0m__name__\u001b[0m \u001b[1;33m==\u001b[0m \u001b[1;34m'__main__'\u001b[0m\u001b[1;33m:\u001b[0m\u001b[1;33m\u001b[0m\u001b[1;33m\u001b[0m\u001b[0m\n\u001b[1;32m---> 41\u001b[1;33m         \u001b[0mMain\u001b[0m\u001b[1;33m(\u001b[0m\u001b[1;33m)\u001b[0m\u001b[1;33m\u001b[0m\u001b[1;33m\u001b[0m\u001b[0m\n\u001b[0m",
      "\u001b[1;32m<ipython-input-1-ee21073924e5>\u001b[0m in \u001b[0;36mMain\u001b[1;34m()\u001b[0m\n\u001b[0;32m     13\u001b[0m \u001b[1;33m\u001b[0m\u001b[0m\n\u001b[0;32m     14\u001b[0m         \u001b[1;31m# connect to server on local computer\u001b[0m\u001b[1;33m\u001b[0m\u001b[1;33m\u001b[0m\u001b[1;33m\u001b[0m\u001b[0m\n\u001b[1;32m---> 15\u001b[1;33m         \u001b[0ms\u001b[0m\u001b[1;33m.\u001b[0m\u001b[0mconnect\u001b[0m\u001b[1;33m(\u001b[0m\u001b[1;33m(\u001b[0m\u001b[0mhost\u001b[0m\u001b[1;33m,\u001b[0m\u001b[0mport\u001b[0m\u001b[1;33m)\u001b[0m\u001b[1;33m)\u001b[0m\u001b[1;33m\u001b[0m\u001b[1;33m\u001b[0m\u001b[0m\n\u001b[0m\u001b[0;32m     16\u001b[0m \u001b[1;33m\u001b[0m\u001b[0m\n\u001b[0;32m     17\u001b[0m         \u001b[1;31m# message you send to server\u001b[0m\u001b[1;33m\u001b[0m\u001b[1;33m\u001b[0m\u001b[1;33m\u001b[0m\u001b[0m\n",
      "\u001b[1;31mConnectionRefusedError\u001b[0m: [WinError 10061] No connection could be made because the target machine actively refused it"
     ]
    }
   ],
   "source": [
    "# Import socket module \n",
    "import socket \n",
    "\n",
    "\n",
    "def Main(): \n",
    "\t# local host IP '127.0.0.1' \n",
    "\thost = '127.0.0.1'\n",
    "\n",
    "\t# Define the port on which you want to connect \n",
    "\tport = 12345\n",
    "\n",
    "\ts = socket.socket(socket.AF_INET,socket.SOCK_STREAM) \n",
    "\n",
    "\t# connect to server on local computer \n",
    "\ts.connect((host,port)) \n",
    "\n",
    "\t# message you send to server \n",
    "\tmessage = \"shaurya says geeksforgeeks\"\n",
    "\twhile True: \n",
    "\n",
    "\t\t# message sent to server \n",
    "\t\ts.send(message.encode('ascii')) \n",
    "\n",
    "\t\t# messaga received from server \n",
    "\t\tdata = s.recv(1024) \n",
    "\n",
    "\t\t# print the received message \n",
    "\t\t# here it would be a reverse of sent message \n",
    "\t\tprint('Received from the server :',str(data.decode('ascii'))) \n",
    "\n",
    "\t\t# ask the client whether he wants to continue \n",
    "\t\tans = input('\\nDo you want to continue(y/n) :') \n",
    "\t\tif ans == 'y': \n",
    "\t\t\tcontinue\n",
    "\t\telse: \n",
    "\t\t\tbreak\n",
    "\t# close the connection \n",
    "\ts.close() \n",
    "\n",
    "if __name__ == '__main__': \n",
    "\tMain() \n"
   ]
  },
  {
   "cell_type": "code",
   "execution_count": null,
   "metadata": {},
   "outputs": [],
   "source": []
  }
 ],
 "metadata": {
  "kernelspec": {
   "display_name": "Python 3",
   "language": "python",
   "name": "python3"
  },
  "language_info": {
   "codemirror_mode": {
    "name": "ipython",
    "version": 3
   },
   "file_extension": ".py",
   "mimetype": "text/x-python",
   "name": "python",
   "nbconvert_exporter": "python",
   "pygments_lexer": "ipython3",
   "version": "3.7.6"
  }
 },
 "nbformat": 4,
 "nbformat_minor": 4
}
