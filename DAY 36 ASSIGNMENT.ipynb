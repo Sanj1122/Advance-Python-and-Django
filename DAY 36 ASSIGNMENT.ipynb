{
 "cells": [
  {
   "cell_type": "code",
   "execution_count": null,
   "metadata": {},
   "outputs": [
    {
     "name": "stdout",
     "output_type": "stream",
     "text": [
      "Github username: sanj1122\n"
     ]
    }
   ],
   "source": [
    "GITHUB_API = 'https://api.github.com'\n",
    "\n",
    "\n",
    "import requests\n",
    "import json\n",
    "#from urlparse import urljoin\n",
    "\n",
    "\n",
    "def main():\n",
    "    #\n",
    "    # User Input\n",
    "    #\n",
    "    username = input('Github username: ')\n",
    "    password = input('Github password: ')\n",
    "    #\n",
    "    # Compose Request\n",
    "    #\n",
    "    url = urljoin(GITHUB_API, 'authorizations')\n",
    "    payload = {}\n",
    "    res = requests.post(\n",
    "        url,\n",
    "        auth = (username, password),\n",
    "        data = json.dumps(payload),\n",
    "        )\n",
    "    print(res.text)\n",
    "\n",
    "if __name__ == '__main__':\n",
    "    main()"
   ]
  },
  {
   "cell_type": "code",
   "execution_count": 1,
   "metadata": {},
   "outputs": [],
   "source": []
  },
  {
   "cell_type": "code",
   "execution_count": null,
   "metadata": {},
   "outputs": [
    {
     "name": "stdout",
     "output_type": "stream",
     "text": [
      " * Serving Flask app \"__main__\" (lazy loading)\n",
      " * Environment: production\n",
      "   WARNING: This is a development server. Do not use it in a production deployment.\n",
      "   Use a production WSGI server instead.\n",
      " * Debug mode: off\n"
     ]
    },
    {
     "name": "stderr",
     "output_type": "stream",
     "text": [
      " * Running on http://0.0.0.0:5000/ (Press CTRL+C to quit)\n"
     ]
    }
   ],
   "source": [
    "import os\n",
    "from werkzeug.utils import secure_filename\n",
    "from flask import Flask,flash,request,redirect,send_file,render_template\n",
    "UPLOAD_FOLDER = 'uploads/'\n",
    "#app = Flask(__name__)\n",
    "app = Flask(__name__, template_folder='templates')\n",
    "app.config['UPLOAD_FOLDER'] = UPLOAD_FOLDER\n",
    "# Upload API\n",
    "@app.route('/uploadfile', methods=['GET', 'POST'])\n",
    "def upload_file():\n",
    "    if request.method == 'POST':\n",
    "        # check if the post request has the file part\n",
    "        if 'file' not in request.files:\n",
    "            print('no file')\n",
    "            return redirect(request.url)\n",
    "        file = request.files['file']\n",
    "        # if user does not select file, browser also\n",
    "        # submit a empty part without filename\n",
    "        if file.filename == '':\n",
    "            print('no filename')\n",
    "            return redirect(request.url)\n",
    "        else:\n",
    "            filename = secure_filename(file.filename)\n",
    "            file.save(os.path.join(app.config['UPLOAD_FOLDER'], filename))\n",
    "            print(\"saved file successfully\")\n",
    "      #send file name as parameter to downlad\n",
    "            return redirect('/downloadfile/'+ filename)\n",
    "    return render_template('upload_file.html')\n",
    "# Download API\n",
    "@app.route(\"/downloadfile/<filename>\", methods = ['GET'])\n",
    "def download_file(filename):\n",
    "    return render_template('download.html',value=filename)\n",
    "@app.route('/return-files/<filename>')\n",
    "def return_files_tut(filename):\n",
    "    file_path = UPLOAD_FOLDER + filename\n",
    "    return send_file(file_path, as_attachment=True, attachment_filename='')\n",
    "if __name__ == \"__main__\":\n",
    "    app.run(host='0.0.0.0')"
   ]
  },
  {
   "cell_type": "code",
   "execution_count": null,
   "metadata": {},
   "outputs": [],
   "source": []
  }
 ],
 "metadata": {
  "kernelspec": {
   "display_name": "Python 3",
   "language": "python",
   "name": "python3"
  },
  "language_info": {
   "codemirror_mode": {
    "name": "ipython",
    "version": 3
   },
   "file_extension": ".py",
   "mimetype": "text/x-python",
   "name": "python",
   "nbconvert_exporter": "python",
   "pygments_lexer": "ipython3",
   "version": "3.7.6"
  }
 },
 "nbformat": 4,
 "nbformat_minor": 4
}
